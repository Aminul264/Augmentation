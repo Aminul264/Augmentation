{
  "nbformat": 4,
  "nbformat_minor": 0,
  "metadata": {
    "colab": {
      "provenance": []
    },
    "kernelspec": {
      "name": "python3",
      "display_name": "Python 3"
    },
    "language_info": {
      "name": "python"
    }
  },
  "cells": [
    {
      "cell_type": "markdown",
      "source": [
        "# Import necessary modules\n"
      ],
      "metadata": {
        "id": "-WXOoId720nS"
      }
    },
    {
      "cell_type": "code",
      "source": [
        "from tensorflow.keras.preprocessing.image import ImageDataGenerator\n",
        "from tensorflow.keras.datasets.mnist import load_data\n",
        "import numpy as np\n"
      ],
      "metadata": {
        "id": "_8GGjv1E2z13"
      },
      "execution_count": 116,
      "outputs": []
    },
    {
      "cell_type": "markdown",
      "source": [
        "# Load the mnist dataset"
      ],
      "metadata": {
        "id": "U_sAQjrHJgsm"
      }
    },
    {
      "cell_type": "code",
      "source": [
        "(x_train,y_train) , (x_test,y_test) = load_data()\n",
        "x_train = x_train.astype('float32') / 255.0\n",
        "x_test = x_test.astype('float32') / 255.0\n",
        "\n",
        "x_train = np.expand_dims(x_train, axis = -1)\n",
        "x_test = np.expand_dims(x_test, axis = -1)"
      ],
      "metadata": {
        "id": "VqJk6PflJ5CT"
      },
      "execution_count": 117,
      "outputs": []
    },
    {
      "cell_type": "markdown",
      "source": [
        "# Step : Data Augmentation  Technique"
      ],
      "metadata": {
        "id": "zHDcu_XL5zCD"
      }
    },
    {
      "cell_type": "code",
      "source": [
        "def augment_dataset(X,Y):\n",
        "  # Define the features of ImageDataGenerator for augmentation\n",
        "  datagen = ImageDataGenerator(\n",
        "    rotation_range=40,\n",
        "    shear_range=0.2,\n",
        "    zoom_range=0.2,\n",
        "    fill_mode='nearest'\n",
        "  )\n",
        "\n",
        "  # list of augmented images and labels\n",
        "  augmented_images = []\n",
        "  augmented_labels = []\n",
        "\n",
        "  # number of times to call datagen for augmentation\n",
        "  numb = 1\n",
        "  batch_size = len(X)\n",
        "  # generate augmented images\n",
        "  for _ in range(numb):\n",
        "    generator = datagen.flow(X, Y, batch_size = batch_size)\n",
        "    for _ in range(len(X)//batch_size):\n",
        "      # next(iterator) is used for  taken all the batches of images\n",
        "      images, labels = next(generator)\n",
        "      augmented_images.extend(images)\n",
        "      augmented_labels.extend(labels)\n",
        "\n",
        "  # list to numpy array\n",
        "  augmented_images =  np.array(augmented_images)\n",
        "  augmented_labels = np.array(augmented_labels)\n",
        "\n",
        "  # combine the augmented data with actual data\n",
        "  x_combined = np.concatenate((X,augmented_images))\n",
        "  y_combined = np.concatenate((Y,augmented_labels))\n",
        "\n",
        "  return (x_combined,y_combined)"
      ],
      "metadata": {
        "id": "Xk2f0JzXWWXo"
      },
      "execution_count": 118,
      "outputs": []
    },
    {
      "cell_type": "code",
      "source": [
        "(x_train_combined, y_train_combined)= augment_dataset(x_train, y_train)\n",
        "(x_test_combined, y_test_combined)= augment_dataset(x_test, y_test)"
      ],
      "metadata": {
        "id": "eus4h4unPhwM"
      },
      "execution_count": 119,
      "outputs": []
    },
    {
      "cell_type": "code",
      "source": [
        "x_train_combined.shape"
      ],
      "metadata": {
        "colab": {
          "base_uri": "https://localhost:8080/"
        },
        "id": "V1F_qul9ZxZh",
        "outputId": "eec7996f-a0d3-4e66-ff02-4814e9dbfc48"
      },
      "execution_count": 120,
      "outputs": [
        {
          "output_type": "execute_result",
          "data": {
            "text/plain": [
              "(120000, 28, 28, 1)"
            ]
          },
          "metadata": {},
          "execution_count": 120
        }
      ]
    },
    {
      "cell_type": "code",
      "source": [
        "x_test_combined.shape"
      ],
      "metadata": {
        "colab": {
          "base_uri": "https://localhost:8080/"
        },
        "id": "Xt8Sq7e3eOZ5",
        "outputId": "1f895ff6-3868-48a4-8488-5ab5a1d54336"
      },
      "execution_count": 121,
      "outputs": [
        {
          "output_type": "execute_result",
          "data": {
            "text/plain": [
              "(20000, 28, 28, 1)"
            ]
          },
          "metadata": {},
          "execution_count": 121
        }
      ]
    }
  ]
}